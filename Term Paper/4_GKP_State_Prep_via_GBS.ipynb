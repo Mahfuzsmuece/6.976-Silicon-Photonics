{
 "cells": [
  {
   "cell_type": "markdown",
   "metadata": {},
   "source": [
    "# Preparing Approximate GKP States using a GBS Device."
   ]
  },
  {
   "cell_type": "markdown",
   "metadata": {
    "ExecuteTime": {
     "end_time": "2020-01-20T19:40:13.314552Z",
     "start_time": "2020-01-20T19:40:13.305550Z"
    }
   },
   "source": [
    "Term Paper MIT 6.S986 Silicon Photonics (Fall 2022). By Shoumik Chowdhury (@shoumikdc). \n",
    "\n",
    "Adapted from GKP simulations by I. Tzitrin and J. E. Bourassa. In this notebook, we numerically simulate the preparation of finite-energy Gottesman-Kitaev-Preskill (GKP) states using an optical circuit of tunable beamsplitters and squeezers. The target state is:  \n",
    "\n",
    "$\\left|0_\\Delta\\right> \\approx S(0.196)[0.661\\left|0\\right> - 0.343\\left|2\\right> + 0.253\\left|4\\right>  - 0.368\\left|6\\right> + 0.377\\left|8\\right>  + 0.323\\left|10\\right>  + 0.365\\left|12\\right>]$,\n",
    "\n",
    "which has 96.9% fidelity to the normalizable GKP state $\\left|0_\\Delta\\right>$ for $\\Delta = 10 \\text{ dB}$. See [Phys. Rev. A 101, 032315 (2020)](https://journals.aps.org/pra/abstract/10.1103/PhysRevA.101.032315) and the blog post [Riding bosonic qubits towards fault-tolerant quantum computation](https://medium.com/xanaduai/riding-bosonic-qubits-towards-fault-tolerant-quantum-computation-95b92c78cb43) for more details. \n",
    "\n",
    "Here, we also benchmark how well the circuit performs when subjected to fab imperfections in the 2x2 coupler elements. \n",
    "\n"
   ]
  },
  {
   "cell_type": "code",
   "execution_count": 1,
   "metadata": {
    "ExecuteTime": {
     "end_time": "2020-01-20T19:49:01.369843Z",
     "start_time": "2020-01-20T19:49:01.353114Z"
    }
   },
   "outputs": [],
   "source": [
    "import numpy as np\n",
    "from qutip import wigner, Qobj, wigner_cmap\n",
    "\n",
    "import matplotlib.pyplot as plt\n",
    "import matplotlib as mpl\n",
    "from matplotlib import cm\n",
    "\n",
    "import strawberryfields as sf\n",
    "from strawberryfields.ops import *\n",
    "from thewalrus.quantum import state_vector, density_matrix"
   ]
  },
  {
   "cell_type": "code",
   "execution_count": 2,
   "metadata": {},
   "outputs": [
    {
     "data": {
      "text/plain": [
       "0.3194725739184537"
      ]
     },
     "execution_count": 2,
     "metadata": {},
     "output_type": "execute_result"
    }
   ],
   "source": [
    "from bosonic import GKPQubit, plot_wigner\n",
    "\n",
    "idealGKP = GKPQubit(params={\"N\":100, \"delta\": 0.3})\n",
    "idealGKP.params[\"epsilon\"]"
   ]
  },
  {
   "cell_type": "markdown",
   "metadata": {},
   "source": [
    "## Ideal Preparation"
   ]
  },
  {
   "cell_type": "markdown",
   "metadata": {},
   "source": [
    "Here we setup some basic parameters, like the value of the photon-number-resolving detectors we will use to herald and the amount of squeezing and displacement to use. The origin of these parameters is discussed in the reference above."
   ]
  },
  {
   "cell_type": "code",
   "execution_count": 3,
   "metadata": {
    "ExecuteTime": {
     "end_time": "2020-01-20T20:11:02.845377Z",
     "start_time": "2020-01-20T20:11:02.838377Z"
    }
   },
   "outputs": [],
   "source": [
    "m1, m2 = 5, 7\n",
    "params = np.array([-1.38155106, -1.21699567,  0.7798817,  1.04182349,  \n",
    "                   0.87702211, 0.90243916,  1.48353639,  1.6962906 , \n",
    "                   -0.24251599, 0.1958])\n",
    "sq_r = params[:3]\n",
    "bs_theta1, bs_theta2, bs_theta3 = params[3:6]\n",
    "bs_phi1, bs_phi2, bs_phi3 = params[6:9]\n",
    "sq_virt = params[9]"
   ]
  },
  {
   "cell_type": "markdown",
   "metadata": {},
   "source": [
    "Now we setup a 3-mode quantum circuit in Strawberry Fields and obtain the covariance matrix and vector of means of the Gaussian state."
   ]
  },
  {
   "cell_type": "code",
   "execution_count": 4,
   "metadata": {
    "ExecuteTime": {
     "end_time": "2020-01-20T20:45:42.013639Z",
     "start_time": "2020-01-20T20:45:42.001652Z"
    }
   },
   "outputs": [],
   "source": [
    "nmodes = 3\n",
    "prog = sf.Program(nmodes)\n",
    "eng = sf.Engine(\"gaussian\")\n",
    "\n",
    "with prog.context as q:\n",
    "    for k in range(3):\n",
    "        Sgate(sq_r[k]) | q[k]\n",
    "\n",
    "    BSgate(np.pi/4, 0) | (q[0], q[1])\n",
    "    Rgate(bs_theta1) | q[0]\n",
    "    BSgate(np.pi/4, 0) | (q[0], q[1])\n",
    "    Rgate(bs_phi1) | q[0]\n",
    "    \n",
    "    BSgate(np.pi/4, 0) | (q[1], q[2])\n",
    "    Rgate(bs_theta2) | q[1]\n",
    "    BSgate(np.pi/4, 0) | (q[1], q[2])\n",
    "    Rgate(bs_phi2) | q[1]\n",
    "    \n",
    "    BSgate(np.pi/4, 0) | (q[0], q[1])\n",
    "    Rgate(bs_theta3) | q[0]\n",
    "    BSgate(np.pi/4, 0) | (q[0], q[1])\n",
    "    Rgate(bs_phi3) | q[0]\n",
    "    \n",
    "    \n",
    "    \n",
    "#     BSgate(bs_theta1, bs_phi1) | (q[0], q[1])\n",
    "#     BSgate(bs_theta2, bs_phi2) | (q[1], q[2])\n",
    "#     BSgate(bs_theta3, bs_phi3) | (q[0], q[1])\n",
    "    \n",
    "    Sgate(sq_virt) | q[2]\n",
    "\n",
    "state = eng.run(prog).state\n",
    "mu, cov = state.means(), state.cov()"
   ]
  },
  {
   "cell_type": "code",
   "execution_count": 5,
   "metadata": {},
   "outputs": [
    {
     "data": {
      "text/plain": [
       "['/Users/shoumikdc/crostini/6.976-Silicon-Photonics/Term Paper/circuit_tex/output_2022_December_14_11:30PM.tex',\n",
       " '\\\\documentclass{article}\\n\\\\pagestyle{empty}\\n\\\\usepackage{qcircuit}\\n\\\\begin{document}\\n\\\\Qcircuit {\\n & \\\\gate{S}  & \\\\multigate{1}{BS}  & \\\\gate{R}  & \\\\multigate{1}{BS}  & \\\\gate{R}  & \\\\qw  & \\\\qw  & \\\\qw  & \\\\qw  & \\\\multigate{1}{BS}  & \\\\gate{R}  & \\\\multigate{1}{BS}  & \\\\gate{R}  & \\\\qw \\\\\\\\\\n & \\\\gate{S}  & \\\\ghost{BS}  & \\\\qw  & \\\\ghost{BS}  & \\\\qw  & \\\\multigate{1}{BS}  & \\\\gate{R}  & \\\\multigate{1}{BS}  & \\\\gate{R}  & \\\\ghost{BS}  & \\\\qw  & \\\\ghost{BS}  & \\\\qw  & \\\\qw \\\\\\\\\\n & \\\\gate{S}  & \\\\qw  & \\\\qw  & \\\\qw  & \\\\qw  & \\\\ghost{BS}  & \\\\qw  & \\\\ghost{BS}  & \\\\qw  & \\\\qw  & \\\\qw  & \\\\qw  & \\\\gate{S}  & \\\\qw \\\\\\\\\\n}\\n\\\\end{document}']"
      ]
     },
     "execution_count": 5,
     "metadata": {},
     "output_type": "execute_result"
    }
   ],
   "source": [
    "prog.draw_circuit()"
   ]
  },
  {
   "cell_type": "markdown",
   "metadata": {},
   "source": [
    "We can now inspect the covariance matrix and vector of means. Note that the vector of means is zero since we did not use displacement gates in the circuit above. This is due to the symmetry of the GKP wavefunction about the origin in phase space."
   ]
  },
  {
   "cell_type": "code",
   "execution_count": 6,
   "metadata": {
    "ExecuteTime": {
     "end_time": "2020-01-20T20:45:44.912712Z",
     "start_time": "2020-01-20T20:45:44.906722Z"
    }
   },
   "outputs": [
    {
     "name": "stdout",
     "output_type": "stream",
     "text": [
      "[0. 0. 0. 0. 0. 0.]\n",
      "[[ 5.1540338   0.89466216  2.08336228  2.97365555 -2.8085551   0.4286188 ]\n",
      " [ 0.89466216  7.897538   -0.01416038 -0.72334939 -0.6911532  -7.28620617]\n",
      " [ 2.08336228 -0.01416038  3.72773407  0.62018826 -3.69218176  3.81092286]\n",
      " [ 2.97365555 -0.72334939  0.62018826  2.31515689 -1.04252728  0.54735133]\n",
      " [-2.8085551  -0.6911532  -3.69218176 -1.04252728  3.96352103 -2.9595734 ]\n",
      " [ 0.4286188  -7.28620617  3.81092286  0.54735133 -2.9595734  11.13510629]]\n"
     ]
    }
   ],
   "source": [
    "print(np.round(mu, 10))\n",
    "print(np.round(cov, 10))"
   ]
  },
  {
   "cell_type": "markdown",
   "metadata": {},
   "source": [
    "We now use The Walrus to obtain the Fock representation of the Gaussian state emerging in the 3rd mode when modes 1 and 2 are heralded in the values $n_1=5$ and $n_2=7$. We also calculate the probability of success in heralding the state."
   ]
  },
  {
   "cell_type": "code",
   "execution_count": 7,
   "metadata": {
    "ExecuteTime": {
     "end_time": "2020-01-20T20:45:46.916980Z",
     "start_time": "2020-01-20T20:45:46.891976Z"
    }
   },
   "outputs": [
    {
     "name": "stdout",
     "output_type": "stream",
     "text": [
      "The probability of successful heralding is 0.00102.\n"
     ]
    },
    {
     "name": "stderr",
     "output_type": "stream",
     "text": [
      "OMP: Info #276: omp_set_nested routine deprecated, please use omp_set_max_active_levels instead.\n",
      "/Users/shoumikdc/crostini/miniforge3/envs/xanadu/lib/python3.8/site-packages/numpy/linalg/linalg.py:2146: RuntimeWarning: divide by zero encountered in det\n",
      "/Users/shoumikdc/crostini/miniforge3/envs/xanadu/lib/python3.8/site-packages/numpy/linalg/linalg.py:2146: RuntimeWarning: invalid value encountered in det\n"
     ]
    }
   ],
   "source": [
    "cutoff = 100\n",
    "psi = state_vector(mu, cov, post_select={0: m1, 1: m2}, normalize=False, cutoff=cutoff)\n",
    "p_psi = np.linalg.norm(psi)\n",
    "psi = psi / p_psi\n",
    "print('The probability of successful heralding is {:.5f}.'.format(p_psi ** 2))"
   ]
  },
  {
   "cell_type": "markdown",
   "metadata": {},
   "source": [
    "We now plot the photon-number distribution of the heralded state. Note that the state has zero support on the odd Fock states due to its symmetry, and the support tapers off after $n=8$."
   ]
  },
  {
   "cell_type": "code",
   "execution_count": 8,
   "metadata": {
    "ExecuteTime": {
     "end_time": "2020-01-20T20:45:49.472496Z",
     "start_time": "2020-01-20T20:45:49.292043Z"
    }
   },
   "outputs": [
    {
     "data": {
      "image/png": "[encoded data removed]",
      "text/plain": [
       "<Figure size 432x288 with 1 Axes>"
      ]
     },
     "metadata": {
      "needs_background": "light"
     },
     "output_type": "display_data"
    }
   ],
   "source": [
    "plt.bar(np.arange(cutoff), np.abs(psi) ** 2)\n",
    "plt.xlim(-1, 22)\n",
    "plt.xticks(np.arange(0, 22, 2))\n",
    "plt.xlabel('$i$')\n",
    "plt.ylabel(r'$p_i$')\n",
    "plt.show()"
   ]
  },
  {
   "cell_type": "markdown",
   "metadata": {},
   "source": [
    "We can now plot the Wigner function of the heralded state:"
   ]
  },
  {
   "cell_type": "code",
   "execution_count": 11,
   "metadata": {
    "ExecuteTime": {
     "end_time": "2020-01-20T20:45:53.872155Z",
     "start_time": "2020-01-20T20:45:52.219528Z"
    }
   },
   "outputs": [
    {
     "data": {
      "image/png": "[encoded data removed]",
      "text/plain": [
       "<Figure size 360x288 with 2 Axes>"
      ]
     },
     "metadata": {
      "needs_background": "light"
     },
     "output_type": "display_data"
    }
   ],
   "source": [
    "grid = 300\n",
    "wigner_pts = np.linspace(-5,5, grid)\n",
    "\n",
    "# plot_wigner(idealGKP.basis['+z'], wigner_pts, contour=False)\n",
    "# ax = plt.gca()\n",
    "\n",
    "Wp = wigner(Qobj(psi), wigner_pts, wigner_pts)\n",
    "wmap = wigner_cmap(Wp)\n",
    "sc1 = np.max(Wp)\n",
    "nrm = mpl.colors.Normalize(-sc1, sc1)\n",
    "fig, axes = plt.subplots(1, 1, figsize=(5, 4))\n",
    "plt1 = axes.contourf(wigner_pts, wigner_pts, Wp, 60,  cmap=cm.seismic, norm=nrm)\n",
    "axes.contour(wigner_pts, wigner_pts, Wp, 60,  cmap=cm.seismic, norm=nrm)\n",
    "axes.set_title(\"Wigner function of the heralded state\");\n",
    "cb1 = fig.colorbar(plt1, ax=axes)\n",
    "fig.tight_layout()\n",
    "plt.show()"
   ]
  },
  {
   "cell_type": "markdown",
   "metadata": {},
   "source": [
    "and a cut of the Wigner function along $p=0$."
   ]
  },
  {
   "cell_type": "code",
   "execution_count": null,
   "metadata": {
    "ExecuteTime": {
     "end_time": "2020-01-20T20:45:56.313743Z",
     "start_time": "2020-01-20T20:45:55.791153Z"
    }
   },
   "outputs": [],
   "source": [
    "plt.plot(xvec, Wp[grid//2,:])\n",
    "plt.title(r\"$W(x,0)$\")\n",
    "plt.xlabel(r\"q\")\n",
    "plt.show()"
   ]
  },
  {
   "cell_type": "code",
   "execution_count": null,
   "metadata": {},
   "outputs": [],
   "source": [
    "np.abs(Qobj(psi).overlap(idealGKP.basis['+z']))**2"
   ]
  },
  {
   "cell_type": "markdown",
   "metadata": {},
   "source": [
    "\\begin{equation}\n",
    "    U(\\theta, \\varphi) =\\! \\begin{bmatrix}\n",
    "        e^{i\\varphi}\\sin(\\frac{\\theta}{2}) & e^{i\\varphi}\\cos(\\frac{\\theta}{2}) \\\\\n",
    "        \\cos(\\frac{\\theta}{2}) & -\\sin(\\frac{\\theta}{2})\n",
    "    \\end{bmatrix} = \\begin{bmatrix}\n",
    "        e^{i\\varphi} & 0 \\\\ 0 & 1\n",
    "    \\end{bmatrix}\\!\\begin{bmatrix}\n",
    "        t & ik \\\\ ik & t\n",
    "    \\end{bmatrix}\\!\\begin{bmatrix}\n",
    "        e^{i\\theta} & 0 \\\\ 0 & 1\n",
    "    \\end{bmatrix}\\!\\begin{bmatrix}\n",
    "        t & ik \\\\ ik & t\n",
    "    \\end{bmatrix}\n",
    "\\end{equation}"
   ]
  },
  {
   "cell_type": "markdown",
   "metadata": {},
   "source": [
    "\\begin{equation}\n",
    "    U(\\theta, \\varphi) =\\! \\begin{bmatrix}\n",
    "        e^{i\\varphi}\\sin(\\frac{\\theta}{2}) & e^{i\\varphi}\\cos(\\frac{\\theta}{2}) \\\\\n",
    "        \\cos(\\frac{\\theta}{2}) & -\\sin(\\frac{\\theta}{2})\n",
    "    \\end{bmatrix} = \\begin{bmatrix}\n",
    "        e^{i\\varphi} & 0 \\\\ 0 & 1\n",
    "    \\end{bmatrix}\\!\\begin{bmatrix}\n",
    "        t & ik \\\\ ik & t\n",
    "    \\end{bmatrix}\\!\\begin{bmatrix}\n",
    "        t e^{i\\theta} & ike^{i\\theta} \\\\ ik & t\n",
    "    \\end{bmatrix}\n",
    "\\end{equation}"
   ]
  },
  {
   "cell_type": "markdown",
   "metadata": {},
   "source": [
    "\\begin{equation}\n",
    "    U(\\theta, \\varphi) =\\! \\begin{bmatrix}\n",
    "        e^{i\\varphi}\\sin(\\frac{\\theta}{2}) & e^{i\\varphi}\\cos(\\frac{\\theta}{2}) \\\\\n",
    "        \\cos(\\frac{\\theta}{2}) & -\\sin(\\frac{\\theta}{2})\n",
    "    \\end{bmatrix} = \\begin{bmatrix}\n",
    "        e^{i\\varphi} & 0 \\\\ 0 & 1\n",
    "    \\end{bmatrix}\\!\\begin{bmatrix}\n",
    "        t^2 e^{i\\theta} - k^2 & itk e^{i\\theta} + itk \\\\ itke^{i\\theta} + itk & t^2 - k^2 e^{i\\theta}\n",
    "    \\end{bmatrix}\n",
    "\\end{equation}"
   ]
  },
  {
   "cell_type": "markdown",
   "metadata": {},
   "source": [
    "\\begin{equation}\n",
    "    U(\\theta, \\varphi) = \\begin{bmatrix}\n",
    "        e^{i\\varphi}\\sin(\\frac{\\theta}{2}) & e^{i\\varphi}\\cos(\\frac{\\theta}{2}) \\\\\n",
    "        \\cos(\\frac{\\theta}{2}) & -\\sin(\\frac{\\theta}{2})\n",
    "    \\end{bmatrix} = \\begin{bmatrix}\n",
    "        i\\sin(\\frac{\\theta}{2}) & i\\cos(\\frac{\\theta}{2}) \\\\\n",
    "        \\cos(\\frac{\\theta}{2}) & -\\sin(\\frac{\\theta}{2}) \n",
    "    \\end{bmatrix}\n",
    "\\end{equation}"
   ]
  },
  {
   "cell_type": "code",
   "execution_count": null,
   "metadata": {},
   "outputs": [],
   "source": [
    "def random_GKP(ε):\n",
    "    \"\"\"\n",
    "    For a given error ε multiplying the BS angles for the GKP circuit, \n",
    "    \"\"\"\n",
    "    \n",
    "    m1, m2 = 5, 7 # Heralding photon numbers\n",
    "    params = np.array([-1.38155106, -1.21699567,  0.7798817,  1.04182349,  \n",
    "                       0.87702211, 0.90243916,  1.48353639,  1.6962906 , \n",
    "                       -0.24251599, 0.1958])\n",
    "    sq_r = params[:3]\n",
    "    params[3:9] = params[3:9] * np.random.uniform(1 - ε, 1 + ε, 6)\n",
    "    bs_theta1, bs_theta2, bs_theta3 = params[3:6]\n",
    "    bs_phi1, bs_phi2, bs_phi3 = params[6:9]\n",
    "    sq_virt = params[9]\n",
    "        \n",
    "    nmodes = 3\n",
    "    prog = sf.Program(nmodes)\n",
    "    eng = sf.Engine(\"gaussian\")\n",
    "\n",
    "    with prog.context as q:\n",
    "        for k in range(3):\n",
    "            Sgate(sq_r[k]) | q[k]\n",
    "\n",
    "        BSgate(bs_theta1, bs_phi1) | (q[0], q[1])\n",
    "        BSgate(bs_theta2, bs_phi2) | (q[1], q[2])\n",
    "        BSgate(bs_theta3, bs_phi3) | (q[0], q[1])\n",
    "\n",
    "        Sgate(sq_virt) | q[2]\n",
    "\n",
    "    state = eng.run(prog).state\n",
    "    mu, cov = state.means(), state.cov()\n",
    "        \n",
    "    cutoff = 100\n",
    "    psi = state_vector(mu, cov, post_select={0: m1, 1: m2}, normalize=False, cutoff=cutoff)\n",
    "    p_psi = np.linalg.norm(psi)\n",
    "    psi = psi / p_psi\n",
    "    \n",
    "    return np.abs(Qobj(psi).overlap(idealGKP.basis['+z']))**2"
   ]
  },
  {
   "cell_type": "code",
   "execution_count": null,
   "metadata": {},
   "outputs": [],
   "source": [
    "# Official \n",
    "# counts, bins = np.histogram(x)\n",
    "# plt.stairs(counts, bins)\n",
    "\n",
    "# Or \n",
    "# plt.hist(bins[:-1], bins, weights=counts)"
   ]
  },
  {
   "cell_type": "code",
   "execution_count": null,
   "metadata": {},
   "outputs": [],
   "source": [
    "for ε in [0, 0.01, 0.02, 0.03, 0.04, 0.05]:\n",
    "\n",
    "    fids = [random_GKP(ε) for i in range(100)]\n",
    "    hist = np.histogram(fids, bins=25, range=(0, 1))\n",
    "    plt.stairs(hist[0], hist[1], label=fr\"$\\varepsilon$ = {ε}\")\n",
    "    \n",
    "plt.legend(loc=\"upper left\")"
   ]
  },
  {
   "cell_type": "code",
   "execution_count": null,
   "metadata": {},
   "outputs": [],
   "source": [
    "dir(sf.ops.BSgate)"
   ]
  },
  {
   "cell_type": "code",
   "execution_count": null,
   "metadata": {},
   "outputs": [],
   "source": []
  }
 ],
 "metadata": {
  "kernelspec": {
   "display_name": "Python 3 (ipykernel)",
   "language": "python",
   "name": "python3"
  },
  "language_info": {
   "codemirror_mode": {
    "name": "ipython",
    "version": 3
   },
   "file_extension": ".py",
   "mimetype": "text/x-python",
   "name": "python",
   "nbconvert_exporter": "python",
   "pygments_lexer": "ipython3",
   "version": "3.8.13"
  },
  "toc": {
   "base_numbering": 1,
   "nav_menu": {},
   "number_sections": true,
   "sideBar": true,
   "skip_h1_title": false,
   "title_cell": "Table of Contents",
   "title_sidebar": "Contents",
   "toc_cell": false,
   "toc_position": {},
   "toc_section_display": true,
   "toc_window_display": false
  },
  "varInspector": {
   "cols": {
    "lenName": 16,
    "lenType": 16,
    "lenVar": 40
   },
   "kernels_config": {
    "python": {
     "delete_cmd_postfix": "",
     "delete_cmd_prefix": "del ",
     "library": "var_list.py",
     "varRefreshCmd": "print(var_dic_list())"
    },
    "r": {
     "delete_cmd_postfix": ") ",
     "delete_cmd_prefix": "rm(",
     "library": "var_list.r",
     "varRefreshCmd": "cat(var_dic_list()) "
    }
   },
   "types_to_exclude": [
    "module",
    "function",
    "builtin_function_or_method",
    "instance",
    "_Feature"
   ],
   "window_display": false
  }
 },
 "nbformat": 4,
 "nbformat_minor": 4
}
